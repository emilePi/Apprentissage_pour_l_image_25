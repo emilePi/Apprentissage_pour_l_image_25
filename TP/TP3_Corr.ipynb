{
  "cells": [
    {
      "cell_type": "markdown",
      "metadata": {
        "id": "bR7d2AVJbqim"
      },
      "source": [
        "# TP3"
      ]
    },
    {
      "cell_type": "markdown",
      "metadata": {
        "id": "Ijv3_YISBvY9"
      },
      "source": [
        "\n",
        "# Neural Networks\n"
      ]
    },
    {
      "cell_type": "markdown",
      "metadata": {
        "id": "QfvGF-ftcLHQ"
      },
      "source": [
        "\n",
        "Les réseaux de neurones peuvent être construits à l'aide du package ``torch.nn``.\n",
        "\n",
        "Maintenant que vous avez eu un aperçu de « autograd », « nn » dépend de\n",
        "``autograd`` pour définir des modèles et les différencier.\n",
        "Un ``nn.Module`` contient des couches et une méthode ``forward(input)`` qui\n",
        "renvoie la « sortie ».\n",
        "\n",
        "Une procédure d'entraînement typique pour un réseau de neurones est la suivante :\n",
        "\n",
        "- Définir le réseau neuronal qui possède certains paramètres à apprendre (ou\n",
        "  poids)\n",
        "- Itérer sur un ensemble de données d'entrées\n",
        "- Calculer la perte (dans quelle mesure la sortie est-elle correcte)\n",
        "- Faire de la backpropagation dans les paramètres du réseau\n",
        "- Mettre à jour les poids du réseau, généralement à l'aide d'une simple règle de mise à jour :\n",
        "  ``poids = poids - taux d'apprentissage * gradient``\n",
        "\n",
        "## Définir le réseau\n",
        "\n",
        "Définissons un réseau :"
      ]
    },
    {
      "cell_type": "code",
      "execution_count": 1,
      "metadata": {
        "id": "ZnjtDwjqcLHO"
      },
      "outputs": [],
      "source": [
        "%matplotlib inline"
      ]
    },
    {
      "cell_type": "code",
      "execution_count": 2,
      "metadata": {
        "id": "RtWlSylQcLHR",
        "outputId": "9ad75dd7-8e95-400f-f0a8-fe72aa292fc0",
        "colab": {
          "base_uri": "https://localhost:8080/"
        }
      },
      "outputs": [
        {
          "output_type": "stream",
          "name": "stdout",
          "text": [
            "Net(\n",
            "  (conv1): Conv2d(1, 6, kernel_size=(5, 5), stride=(1, 1))\n",
            "  (conv2): Conv2d(6, 16, kernel_size=(5, 5), stride=(1, 1))\n",
            "  (fc1): Linear(in_features=400, out_features=120, bias=True)\n",
            "  (fc2): Linear(in_features=120, out_features=84, bias=True)\n",
            "  (fc3): Linear(in_features=84, out_features=10, bias=True)\n",
            ")\n"
          ]
        }
      ],
      "source": [
        "\n",
        "import torch\n",
        "import torch.nn as nn\n",
        "import torch.nn.functional as F\n",
        "\n",
        "\n",
        "class Net(nn.Module):\n",
        "\n",
        "    def __init__(self):\n",
        "        super(Net, self).__init__()\n",
        "        # 1 input image channel, 6 output channels, 5x5 square convolution\n",
        "        # kernel\n",
        "        self.conv1 = nn.Conv2d(1, 6, 5)\n",
        "        self.conv2 = nn.Conv2d(6, 16, 5)\n",
        "        # an affine operation: y = Wx + b\n",
        "        self.fc1 = nn.Linear(16 * 5 * 5, 120)  # 5*5 from image dimension\n",
        "        self.fc2 = nn.Linear(120, 84)\n",
        "        self.fc3 = nn.Linear(84, 10)\n",
        "\n",
        "    def forward(self, x):\n",
        "        # Max pooling over a (2, 2) window\n",
        "        x = F.max_pool2d(F.relu(self.conv1(x)), (2, 2))\n",
        "        # If the size is a square, you can specify with a single number\n",
        "        x = F.max_pool2d(F.relu(self.conv2(x)), 2)\n",
        "        x = torch.flatten(x, 1) # flatten all dimensions except the batch dimension\n",
        "        x = F.relu(self.fc1(x))\n",
        "        x = F.relu(self.fc2(x))\n",
        "        x = self.fc3(x)\n",
        "        return x\n",
        "\n",
        "\n",
        "net = Net()\n",
        "print(net)"
      ]
    },
    {
      "cell_type": "markdown",
      "metadata": {
        "id": "qUM6LLlcTid4"
      },
      "source": [
        " <font color='blue'> **Question** : Décrire l'architecture du réseau </font>"
      ]
    },
    {
      "cell_type": "markdown",
      "metadata": {
        "id": "k79XwF0AbNyr"
      },
      "source": [
        " <font color='blue'> **Question** : Afficher les poids et biais de la première convolution </font>"
      ]
    },
    {
      "cell_type": "code",
      "source": [
        "print(net.conv1.weight.shape)\n",
        "print(net.conv1.bias.shape)\n",
        "\n",
        "print(net.conv1.weight)\n",
        "print(net.conv1.bias)"
      ],
      "metadata": {
        "id": "TS_LM0ymgWol",
        "outputId": "28f176c6-8675-48dd-f0b9-9c9eb488f41e",
        "colab": {
          "base_uri": "https://localhost:8080/"
        }
      },
      "execution_count": 4,
      "outputs": [
        {
          "output_type": "stream",
          "name": "stdout",
          "text": [
            "torch.Size([6, 1, 5, 5])\n",
            "torch.Size([6])\n",
            "Parameter containing:\n",
            "tensor([[[[ 0.0975, -0.0157, -0.1039,  0.1130,  0.1273],\n",
            "          [-0.0135,  0.1003, -0.0613,  0.1766,  0.1645],\n",
            "          [-0.0663, -0.0308, -0.0011, -0.0568,  0.0375],\n",
            "          [-0.0745, -0.1873, -0.1515,  0.0814,  0.1239],\n",
            "          [-0.0157,  0.0898, -0.0053, -0.0913, -0.0619]]],\n",
            "\n",
            "\n",
            "        [[[-0.1164, -0.0256, -0.1833,  0.0540, -0.0682],\n",
            "          [-0.1117, -0.1453, -0.0989,  0.0072,  0.1543],\n",
            "          [-0.0564, -0.0168,  0.0897, -0.0155, -0.1630],\n",
            "          [ 0.0544,  0.1647, -0.1197, -0.0425, -0.0618],\n",
            "          [-0.1842, -0.0217, -0.0585, -0.1931, -0.0783]]],\n",
            "\n",
            "\n",
            "        [[[-0.1385, -0.1656, -0.0811,  0.1474,  0.1322],\n",
            "          [ 0.1125, -0.0981, -0.0091,  0.1491, -0.0134],\n",
            "          [-0.0956, -0.1975, -0.1971,  0.0567,  0.1376],\n",
            "          [ 0.0806,  0.1090,  0.1444, -0.1441, -0.1795],\n",
            "          [ 0.1359, -0.0525, -0.1245, -0.1098,  0.1019]]],\n",
            "\n",
            "\n",
            "        [[[ 0.1100, -0.1209, -0.0287, -0.1516, -0.0468],\n",
            "          [ 0.0985, -0.0345,  0.0379, -0.0820, -0.1414],\n",
            "          [ 0.0027,  0.1185, -0.0365, -0.0841, -0.1970],\n",
            "          [-0.0181,  0.0496,  0.0382,  0.1868, -0.0624],\n",
            "          [-0.0667, -0.0797, -0.0214,  0.1732, -0.1911]]],\n",
            "\n",
            "\n",
            "        [[[ 0.1008,  0.0631,  0.0778, -0.1769, -0.0731],\n",
            "          [-0.1059, -0.1952, -0.1361,  0.0226, -0.0761],\n",
            "          [-0.1506, -0.0163, -0.1221, -0.0633, -0.0674],\n",
            "          [-0.1766, -0.0177, -0.0603, -0.1738,  0.1924],\n",
            "          [ 0.0209,  0.0857, -0.0171,  0.0474, -0.0415]]],\n",
            "\n",
            "\n",
            "        [[[ 0.0682, -0.1965, -0.0569,  0.0638, -0.1160],\n",
            "          [-0.0316,  0.1081, -0.1460, -0.0643,  0.0745],\n",
            "          [-0.0319, -0.0469,  0.0738, -0.0933,  0.0493],\n",
            "          [-0.1974, -0.1487, -0.0539, -0.1306, -0.0117],\n",
            "          [-0.0059,  0.1936, -0.0484, -0.1270,  0.1576]]]], requires_grad=True)\n",
            "Parameter containing:\n",
            "tensor([ 0.1840, -0.0869, -0.0383,  0.1583, -0.1432,  0.1807],\n",
            "       requires_grad=True)\n"
          ]
        }
      ]
    },
    {
      "cell_type": "markdown",
      "metadata": {
        "id": "2kfzsfEgcLHS"
      },
      "source": [
        "Il suffit de définir la fonction ``forward`` et la fonction ``backward``\n",
        "la fonction (où les gradients sont calculés) est automatiquement définie pour vous\n",
        "en utilisant ``autograd``.\n",
        "Vous pouvez utiliser n'importe laquelle des opérations Tensor dans la fonction « forward ».\n",
        "\n",
        "Les paramètres apprenables d'un modèle sont renvoyés par ``net.parameters()``\n",
        "\n"
      ]
    },
    {
      "cell_type": "code",
      "execution_count": 11,
      "metadata": {
        "id": "9Sie6Ow3cLHS",
        "outputId": "57597d76-2fc4-4e46-a284-b4279800131d",
        "colab": {
          "base_uri": "https://localhost:8080/"
        }
      },
      "outputs": [
        {
          "output_type": "stream",
          "name": "stdout",
          "text": [
            "10\n",
            "torch.Size([6, 1, 5, 5])\n",
            "torch.Size([6])\n",
            "torch.Size([16, 6, 5, 5])\n",
            "torch.Size([16])\n",
            "torch.Size([120, 400])\n",
            "torch.Size([120])\n",
            "torch.Size([84, 120])\n",
            "torch.Size([84])\n",
            "torch.Size([10, 84])\n",
            "torch.Size([10])\n",
            "le nombre de paramètres ajustables est : tensor(61706)\n"
          ]
        }
      ],
      "source": [
        "params = list(net.parameters())\n",
        "print(len(params))\n",
        "#print(params[0].size())  # conv1's .weight\n",
        "\n",
        "\n",
        "for param in params:\n",
        "  print(param.shape)\n",
        "\n",
        "nb_params = 0\n",
        "for param in params:\n",
        "  nb_params += torch.prod(torch.tensor(param.shape))\n",
        "print('le nombre de paramètres ajustables est : ' +str(nb_params))"
      ]
    },
    {
      "cell_type": "markdown",
      "metadata": {
        "id": "G8QrCj4NV3LU"
      },
      "source": [
        "**Attention !**\n",
        "Quand on parle du nombre de paramètres d'un réseau, on parle du nombre de nombres réels dans les matrices, biais et noyaux impliqués dans le réseau (comme dans le cours)."
      ]
    },
    {
      "cell_type": "markdown",
      "metadata": {
        "id": "mRU32WSbWWdV"
      },
      "source": [
        " <font color='blue'> **Question** : Combien de paramètres a ce réseau ? </font>"
      ]
    },
    {
      "cell_type": "markdown",
      "metadata": {
        "id": "fWC9IfM8cLHS"
      },
      "source": [
        "Essayons d'envoyer une image aléatoire en entrée.\n"
      ]
    },
    {
      "cell_type": "markdown",
      "metadata": {
        "id": "xXZPV8UzbjRm"
      },
      "source": [
        " <font color='blue'> **Question** : Testez le réseau sur une entrée aléatoire qui est une image en niveaux de gris (un canal) de taille $32 \\times 32$.</font>"
      ]
    },
    {
      "cell_type": "code",
      "execution_count": 13,
      "metadata": {
        "id": "wBBFwR0jcLHS",
        "outputId": "0a0a66f6-a587-4a04-b006-a59745227f7b",
        "colab": {
          "base_uri": "https://localhost:8080/"
        }
      },
      "outputs": [
        {
          "output_type": "stream",
          "name": "stdout",
          "text": [
            "tensor([[ 0.0248,  0.1461,  0.0887, -0.0025, -0.0383,  0.1466, -0.1630, -0.0270,\n",
            "         -0.0570,  0.0461]], grad_fn=<AddmmBackward0>)\n"
          ]
        }
      ],
      "source": [
        "input = torch.randn(1,1,32,32)\n",
        "out = net(input)\n",
        "print(out)"
      ]
    },
    {
      "cell_type": "markdown",
      "metadata": {
        "id": "8m_g4OxtWitv"
      },
      "source": [
        "##  <font color='blue'> Exercice </font>"
      ]
    },
    {
      "cell_type": "markdown",
      "metadata": {
        "id": "MO-VJ2GtWyRT"
      },
      "source": [
        "1. Nous aimerions définir un réseau qui classe les images de taille $(3,32,32)$.\n",
        "Construire une classe Net() qui applique :\n",
        "- une convolution avec $6$ canaux en sortie et un noyau de taille $5 \\times 5$, suivi d'un ReLu\n",
        "- un max pooling de taille $2 \\times 2$\n",
        "- une convolution avec $16$ de canaux en sortie et un noyau de taille $3 \\times 3$, suivi d'un ReLu\n",
        "- un  max pooling de taille $2 \\times 2$\n",
        "- une couche linéaire avec une taille de sortie de $120$, suivie d'un ReLu\n",
        "- une couche linéaire avec une taille de sortie de $84$, suivie d'un ReLu\n",
        "- une couche linéaire avec une taille de sortie de $10$\n",
        "\n",
        "Vérifiez que cela fonctionne avec une entrée aléatoire.\n",
        "\n",
        "2. Dessinez le réseau comme cela est fait dans les dernières slides du cours."
      ]
    },
    {
      "cell_type": "code",
      "execution_count": 25,
      "metadata": {
        "id": "saejSg-qcatJ",
        "outputId": "89bcf042-4416-4b58-f13d-e3ae2a267acb",
        "colab": {
          "base_uri": "https://localhost:8080/"
        }
      },
      "outputs": [
        {
          "output_type": "stream",
          "name": "stdout",
          "text": [
            "Net(\n",
            "  (conv1): Conv2d(3, 6, kernel_size=(5, 5), stride=(1, 1))\n",
            "  (conv2): Conv2d(6, 16, kernel_size=(3, 3), stride=(1, 1))\n",
            "  (fc1): Linear(in_features=576, out_features=120, bias=True)\n",
            "  (fc2): Linear(in_features=120, out_features=84, bias=True)\n",
            "  (fc3): Linear(in_features=84, out_features=10, bias=True)\n",
            ")\n"
          ]
        }
      ],
      "source": [
        "class Net(nn.Module):\n",
        "\n",
        "    def __init__(self):\n",
        "        super(Net, self).__init__()\n",
        "        # 1 input image channel, 6 output channels, 5x5 square convolution\n",
        "        # kernel\n",
        "        self.conv1 = nn.Conv2d(3, 6, 5)\n",
        "        self.conv2 = nn.Conv2d(6, 16, 3)\n",
        "        # an affine operation: y = Wx + b\n",
        "        self.fc1 = nn.Linear(16*6*6, 120)\n",
        "        self.fc2 = nn.Linear(120, 84)\n",
        "        self.fc3 = nn.Linear(84, 10)\n",
        "\n",
        "    def forward(self, x):\n",
        "        # Max pooling over a (2, 2) window\n",
        "        x = F.max_pool2d(F.relu(self.conv1(x)), (2, 2))\n",
        "        # If the size is a square, you can specify with a single number\n",
        "        x = F.max_pool2d(F.relu(self.conv2(x)), 2)\n",
        "        x = torch.flatten(x, 1) # flatten all dimensions except the batch dimension\n",
        "        x = F.relu(self.fc1(x))\n",
        "        x = F.relu(self.fc2(x))\n",
        "        x = self.fc3(x)\n",
        "        return x\n",
        "\n",
        "\n",
        "net = Net()\n",
        "print(net)"
      ]
    },
    {
      "cell_type": "code",
      "execution_count": 26,
      "metadata": {
        "id": "LHa2zo3gZGZF",
        "outputId": "1a4c609a-101a-4005-cb46-5ec855d489e2",
        "colab": {
          "base_uri": "https://localhost:8080/"
        }
      },
      "outputs": [
        {
          "output_type": "execute_result",
          "data": {
            "text/plain": [
              "tensor([[-0.0586,  0.0880, -0.0691, -0.1053, -0.0279, -0.0493,  0.0395,  0.0799,\n",
              "         -0.1162, -0.0666]], grad_fn=<AddmmBackward0>)"
            ]
          },
          "metadata": {},
          "execution_count": 26
        }
      ],
      "source": [
        "x = torch.randn(1,3,32,32)\n",
        "net(x)"
      ]
    },
    {
      "cell_type": "code",
      "source": [],
      "metadata": {
        "id": "Lh_MjmlckOT_"
      },
      "execution_count": null,
      "outputs": []
    }
  ],
  "metadata": {
    "colab": {
      "provenance": []
    },
    "kernelspec": {
      "display_name": "Python 3 (ipykernel)",
      "language": "python",
      "name": "python3"
    },
    "language_info": {
      "codemirror_mode": {
        "name": "ipython",
        "version": 3
      },
      "file_extension": ".py",
      "mimetype": "text/x-python",
      "name": "python",
      "nbconvert_exporter": "python",
      "pygments_lexer": "ipython3",
      "version": "3.12.7"
    }
  },
  "nbformat": 4,
  "nbformat_minor": 0
}