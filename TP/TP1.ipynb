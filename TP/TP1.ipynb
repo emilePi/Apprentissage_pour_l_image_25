{
 "cells": [
  {
   "cell_type": "markdown",
   "metadata": {
    "id": "NHDqo7H0ymzd"
   },
   "source": [
    " # Multiclass logistic regression\n",
    " Goal:\n",
    " 1. Define functions for training a multiclass logistic regression\n",
    " 1. Train the classifier using gradient descent\n",
    " 1. Visualize a multi-class logisitc regression for 2D data\n",
    " 1. Test different feature transforms\n",
    "\n",
    " **Reference:**\n",
    " Section \"4.3.4 Multiclass logistic regression\"\n",
    " of\n",
    "\n",
    " C. M. Bishop *Pattern Recognition and Machine Learning*,\n",
    "Information Science and Statistics, Springer, 2006\n",
    "\n",
    "Freely available:\n",
    "https://www.microsoft.com/en-us/research/people/cmbishop/prml-book/\n"
   ]
  },
  {
   "cell_type": "code",
   "execution_count": null,
   "metadata": {
    "id": "2vWdx2AvyGMg"
   },
   "outputs": [],
   "source": [
    "import numpy as np\n",
    "import matplotlib.pyplot as plt\n",
    "from matplotlib.colors import ListedColormap\n",
    "from sklearn.datasets import make_moons, make_circles, make_classification, make_blobs, make_gaussian_quantiles\n",
    "from sklearn import metrics\n",
    "from sklearn.model_selection import train_test_split\n",
    "from sklearn.preprocessing import StandardScaler"
   ]
  },
  {
   "cell_type": "markdown",
   "metadata": {
    "id": "M1vvMSquZKPz"
   },
   "source": [
    "# Create some toy dataset:"
   ]
  },
  {
   "cell_type": "code",
   "execution_count": null,
   "metadata": {
    "colab": {
     "base_uri": "https://localhost:8080/",
     "height": 830
    },
    "id": "qzWqv9vv0e9a",
    "outputId": "867b3a8d-c5e0-46c0-b28d-31b0547b2223"
   },
   "outputs": [],
   "source": [
    "n_class = 3\n",
    "# Three examples of synthetic 2D datasets:\n",
    "X, t = make_blobs(n_features=2, centers = n_class,n_samples=100)\n",
    "#X, t = make_classification(n_features=2, n_redundant=0, n_informative=2, random_state=24, n_classes=n_class, n_clusters_per_class=1,n_samples=200)\n",
    "#X, t = make_gaussian_quantiles(n_features=2, n_classes=n_class, n_samples=500)\n",
    "\n",
    "X = StandardScaler().fit_transform(X)\n",
    "\n",
    "X_train, X_test, t_train, t_test = train_test_split(X, t, test_size=.4, random_state=12)\n",
    "# Number of points in each set:\n",
    "N_train = X_train.shape[0]\n",
    "N_test = X_test.shape[0]\n",
    "\n",
    "figure = plt.figure(figsize=(10, 10))\n",
    "plt.scatter(X_train[:, 0], X_train[:, 1], marker='o', c=t_train, s=50, edgecolor='k')\n",
    "plt.scatter(X_test[:, 0], X_test[:, 1], marker='P', c=t_test, s=50, edgecolor='k');\n",
    "plt.show()"
   ]
  },
  {
   "cell_type": "markdown",
   "metadata": {
    "id": "dwsoKyCtQH5T"
   },
   "source": [
    "\n",
    "\n",
    "## Apply feature transform:\n"
   ]
  },
  {
   "cell_type": "code",
   "execution_count": null,
   "metadata": {
    "colab": {
     "base_uri": "https://localhost:8080/"
    },
    "id": "8V-HnaFy7uI6",
    "outputId": "deb41be7-2d97-4e7d-9698-64c112ca6d4e"
   },
   "outputs": [],
   "source": [
    "\n",
    "# Define some feature transforms:\n",
    "\n",
    "def identity(x):\n",
    "  return(np.hstack((x, np.ones((x.shape[0],1)))))\n",
    "\n",
    "def feat_transform_2D_prod(x):\n",
    "  return np.hstack( (x, x**2, (x[:,0]*x[:,1]).reshape((x.shape[0],1)), np.ones((x.shape[0],1))))\n",
    "\n",
    "feature_transform = identity\n",
    "#feature_transform = feat_transform_2D_prod\n",
    "\n",
    "\n",
    "\n",
    "Phi_train = feature_transform(X_train)\n",
    "n_feat = Phi_train.shape[1]\n",
    "print('n_feat = ', n_feat)\n",
    "Phi_test = feature_transform(X_test)\n"
   ]
  },
  {
   "cell_type": "markdown",
   "metadata": {
    "id": "d4uyH1n3nHs4"
   },
   "source": [
    "<font color='blue'> **Question** Que fait le code ```np.ones((x.shape[0],1))``` ? A quoi cela correspond ? </font>"
   ]
  },
  {
   "cell_type": "markdown",
   "metadata": {
    "id": "OUCXxE2TQPrX"
   },
   "source": [
    "## Functions for Multiclass logistic regression:\n"
   ]
  },
  {
   "cell_type": "code",
   "execution_count": null,
   "metadata": {
    "id": "ZwcajoX759ay"
   },
   "outputs": [],
   "source": [
    "# - W is the matrix of size n_feat x n_class\n",
    "\n",
    "def soft_max(W, Phi):\n",
    "  # evaluate the softmax vector for a list of feature points phi (given in line)\n",
    "  if Phi.ndim==1: # row convention\n",
    "    Phi = Phi.reshape((1,Phi.size))\n",
    "  a = Phi @ W\n",
    "  y = np.exp(a)\n",
    "  s = np.sum(y,axis=1)\n",
    "  y = y/s.reshape((s.size,1))\n",
    "  return(y)\n",
    "\n",
    "def predicted_class(W,Phi):\n",
    "  if Phi.ndim==1: # row convention\n",
    "    Phi = Phi.reshape((1,Phi.size))\n",
    "  a = Phi @ W\n",
    "  pred = np.argmax(a,axis=1)\n",
    "  # # equivalent to:\n",
    "  # y = soft_max(W, Phi)\n",
    "  # pred = np.argmax(y,axis=1)\n",
    "  return(pred)\n",
    "\n",
    "def mloglikelihood(W, Phi, t):\n",
    "  if Phi.ndim==1: # row convention\n",
    "    Phi = Phi.reshape((1,Phi.size))\n",
    "  y = soft_max(W, Phi)\n",
    "  y = y[np.arange(Phi.shape[0]),t]\n",
    "  L = - np.sum(np.log(y))\n",
    "  return(L)\n",
    "\n",
    "def gradmloglikelihood(W, Phi, t):\n",
    "  if Phi.ndim==1: # row convention\n",
    "    Phi = Phi.reshape((1,Phi.size))\n",
    "  y = soft_max(W, Phi)\n",
    "  y[np.arange(Phi.shape[0]),t] = y[np.arange(Phi.shape[0]),t] - 1\n",
    "  g = Phi.transpose() @ y\n",
    "  return(g)\n",
    "\n"
   ]
  },
  {
   "cell_type": "markdown",
   "metadata": {
    "id": "1PeDH1IxQUPA"
   },
   "source": [
    "## Training with gradient descent on full dataset"
   ]
  },
  {
   "cell_type": "code",
   "execution_count": null,
   "metadata": {
    "id": "eOXP7T3aaxrG"
   },
   "outputs": [],
   "source": [
    "# random initialization:\n",
    "W = np.random.rand(n_feat,n_class)"
   ]
  },
  {
   "cell_type": "code",
   "execution_count": null,
   "metadata": {
    "colab": {
     "base_uri": "https://localhost:8080/"
    },
    "id": "-NChi0BqOsvz",
    "outputId": "c1f95eaa-4d62-4175-9b8a-0fc83cefbb5e"
   },
   "outputs": [],
   "source": [
    "# run Nit iterations of gradient descent (can be done several times if convergence is not observed):\n",
    "lr = 1/N_train\n",
    "Nit = 10**3\n",
    "print('n = ', 0, ' F(W) = ', mloglikelihood(W, Phi_train, t_train))\n",
    "for n in range(Nit):\n",
    "  W -= lr*gradmloglikelihood(W, Phi_train, t_train)\n",
    "  if n%(100)==0:\n",
    "    print('n = ', n, ' F(W) = ', mloglikelihood(W, Phi_train, t_train))\n"
   ]
  },
  {
   "cell_type": "markdown",
   "metadata": {
    "id": "9dxJ-t4T0IBL"
   },
   "source": [
    "\n",
    "  <font color='blue'>**Question** : Afficher la valeur du 'loss' et la norme du gradient au cours des itérations. </font>"
   ]
  },
  {
   "cell_type": "markdown",
   "metadata": {
    "id": "u4egxwK8KUbd"
   },
   "source": [
    " <font color='blue'>**Question** :Qu'est-ce que 'lr' ? Essayer de changer sa valeur. Commenter. </font>"
   ]
  },
  {
   "cell_type": "markdown",
   "metadata": {
    "id": "vQ5moiFtSR2U"
   },
   "source": [
    "## Classifier prediction:"
   ]
  },
  {
   "cell_type": "markdown",
   "metadata": {
    "id": "Ui68tpJH6z8f"
   },
   "source": [
    "  <font color='blue'> **Question** : Observer les probabilités prédites pour le premier point de l'ensemble de test.</font>"
   ]
  },
  {
   "cell_type": "code",
   "execution_count": null,
   "metadata": {
    "colab": {
     "base_uri": "https://localhost:8080/"
    },
    "id": "xrtNLDeP3yUj",
    "outputId": "ebebbb58-05cb-4650-b811-7c2dbd92c3eb"
   },
   "outputs": [],
   "source": [
    "print(W.shape)\n",
    "print(Phi_test.shape)\n",
    "\n",
    "pred = predicted_class(W,Phi_test)\n",
    "\n",
    "\n",
    "print('pred: ', pred[:30])\n",
    "print('true: ', t_test[:30])\n"
   ]
  },
  {
   "cell_type": "markdown",
   "metadata": {
    "id": "aGEG_ouITNj0"
   },
   "source": [
    "## Visualize classifiction regions:\n"
   ]
  },
  {
   "cell_type": "code",
   "execution_count": null,
   "metadata": {
    "colab": {
     "base_uri": "https://localhost:8080/",
     "height": 716
    },
    "id": "KRRxPsI2Amdd",
    "outputId": "b0f04554-7432-4244-e4a3-7c3f4f33086b"
   },
   "outputs": [],
   "source": [
    "#visualize results:\n",
    "\n",
    "x_min, x_max = X[:, 0].min() - .5, X[:, 0].max() + .5\n",
    "y_min, y_max = X[:, 1].min() - .5, X[:, 1].max() + .5\n",
    "h = 0.02\n",
    "xx, yy = np.meshgrid(np.arange(x_min, x_max, h),\n",
    "                        np.arange(y_min, y_max, h))\n",
    "X_grid = np.hstack((xx.ravel(), yy.ravel()))\n",
    "\n",
    "N_grid = xx.ravel().shape[0]\n",
    "X_grid = np.c_[xx.ravel(), yy.ravel()]\n",
    "Phi_grid = feature_transform(X_grid)\n",
    "\n",
    "Z = predicted_class(W,Phi_grid)\n",
    "Z = Z.reshape(xx.shape)\n",
    "\n",
    "figure = plt.figure(figsize=(16, 8))\n",
    "ax = plt.subplot(1,2,1)\n",
    "ax.set_title(\"Input data\")\n",
    "ax.scatter(X_train[:, 0], X_train[:, 1], marker='o', c=t_train, s=50, edgecolor='k')\n",
    "ax.scatter(X_test[:, 0], X_test[:, 1], marker='P', c=t_test, s=50, edgecolor='k')\n",
    "ax = plt.subplot(1,2,2)\n",
    "cmap = ListedColormap(['b','y','r','m','g','c'])\n",
    "plt.contourf(xx,yy,Z,  cmap = cmap, alpha=.8)\n",
    "ax.scatter(X_train[:, 0], X_train[:, 1], marker='o', c=t_train, s=50, edgecolor='k')\n",
    "ax.scatter(X_test[:, 0], X_test[:, 1], marker='P', c=t_test, s=50, edgecolor='k')\n"
   ]
  },
  {
   "cell_type": "markdown",
   "metadata": {
    "id": "g0FFJrhsS1EG"
   },
   "source": [
    "## Classifier performance:\n",
    "  <font color='blue'>\n",
    "**Exercise**\n",
    "Evaluer les performances du classifieur en utilisant les fonctions ci-dessous. (les documentations sont disponibles en ligne):</font>\n",
    "\n",
    "```\n",
    "from sklearn.metrics import classification_report\n",
    "from sklearn.metrics import confusion_matrix, ConfusionMatrixDisplay\n",
    "```"
   ]
  },
  {
   "cell_type": "code",
   "execution_count": null,
   "metadata": {
    "id": "PNgRPuFgTL-H"
   },
   "outputs": [],
   "source": [
    "# TODO:"
   ]
  },
  {
   "cell_type": "markdown",
   "metadata": {
    "id": "8t32vErehnQS"
   },
   "source": [
    "## Importance of feature transform:"
   ]
  },
  {
   "cell_type": "markdown",
   "metadata": {
    "id": "DGg1jUoWz_m2"
   },
   "source": [
    "**Exercice**\n",
    "\n",
    "Avec le jeu de données ```gaussian_quantiles``` :\n",
    "\n",
    "1. Testez le classificateur avec la transformation de caractéristiques fournie ```identity```. Expliquez les résultats.\n",
    "2. Testez le classificateur avec la transformation de caractéristiques fournie ```feat_transform_2D_prod```. Expliquez les résultats.\n",
    "3. Définissez une feature transform correspondant à une couche cachée linéaire avec $d=25$ neurones cachés, appliquant une transformation linéaire suivie d'une activation ReLU, où chaque poids et biais est tiré aléatoirement selon une distribution gaussienne standard (entrées iid, fixées et utilisées pour tous les points de données). Que peut-on attendre des performances d'un réseau de neurones avec ce jeu de données ?\n"
   ]
  },
  {
   "cell_type": "code",
   "execution_count": null,
   "metadata": {
    "id": "6Hcxd8fM2nqh"
   },
   "outputs": [],
   "source": [
    "\n",
    "\n",
    "\n",
    "\n",
    "\n",
    "\n",
    "\n",
    "\n",
    "\n",
    "\n",
    "\n",
    "\n",
    "\n",
    "\n",
    "\n",
    "\n",
    "\n",
    "\n",
    "\n",
    "\n",
    "\n",
    "\n",
    "\n",
    "\n"
   ]
  },
  {
   "cell_type": "markdown",
   "metadata": {
    "id": "mmvjm22p_DIy"
   },
   "source": [
    "  <font color='blue'> **Question**: Proposer une tranformation en \"features\" pour le troisième \"dataset\" (```gaussian_quantiles```).</font>"
   ]
  },
  {
   "cell_type": "markdown",
   "metadata": {
    "id": "FbddiiEwtL8I"
   },
   "source": [
    "# S'il reste du temps :"
   ]
  },
  {
   "cell_type": "markdown",
   "metadata": {
    "id": "6PyUUi4jKUbe"
   },
   "source": [
    "Commener à faire connaissance avec les tensors : https://pytorch.org/tutorials/beginner/blitz/tensor_tutorial.html"
   ]
  }
 ],
 "metadata": {
  "colab": {
   "provenance": []
  },
  "kernelspec": {
   "display_name": "Python 3 (ipykernel)",
   "language": "python",
   "name": "python3"
  },
  "language_info": {
   "codemirror_mode": {
    "name": "ipython",
    "version": 3
   },
   "file_extension": ".py",
   "mimetype": "text/x-python",
   "name": "python",
   "nbconvert_exporter": "python",
   "pygments_lexer": "ipython3",
   "version": "3.12.7"
  }
 },
 "nbformat": 4,
 "nbformat_minor": 4
}
