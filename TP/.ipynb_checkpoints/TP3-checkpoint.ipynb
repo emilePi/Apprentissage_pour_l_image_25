{
 "cells": [
  {
   "cell_type": "markdown",
   "metadata": {
    "id": "bR7d2AVJbqim"
   },
   "source": [
    "# TP3"
   ]
  },
  {
   "cell_type": "markdown",
   "metadata": {
    "id": "Ijv3_YISBvY9"
   },
   "source": [
    "\n",
    "# Neural Networks\n"
   ]
  },
  {
   "cell_type": "markdown",
   "metadata": {
    "id": "QfvGF-ftcLHQ"
   },
   "source": [
    "\n",
    "Les réseaux de neurones peuvent être construits à l'aide du package ``torch.nn``.\n",
    "\n",
    "Maintenant que vous avez eu un aperçu de « autograd », « nn » dépend de\n",
    "``autograd`` pour définir des modèles et les différencier.\n",
    "Un ``nn.Module`` contient des couches et une méthode ``forward(input)`` qui\n",
    "renvoie la « sortie ».\n",
    "\n",
    "Une procédure d'entraînement typique pour un réseau de neurones est la suivante :\n",
    "\n",
    "- Définir le réseau neuronal qui possède certains paramètres à apprendre (ou\n",
    "  poids)\n",
    "- Itérer sur un ensemble de données d'entrées\n",
    "- Calculer la perte (dans quelle mesure la sortie est-elle correcte)\n",
    "- Faire de la backpropagation dans les paramètres du réseau\n",
    "- Mettre à jour les poids du réseau, généralement à l'aide d'une simple règle de mise à jour :\n",
    "  ``poids = poids - taux d'apprentissage * gradient``\n",
    "\n",
    "## Définir le réseau\n",
    "\n",
    "Définissons un réseau :"
   ]
  },
  {
   "cell_type": "code",
   "execution_count": null,
   "metadata": {
    "id": "ZnjtDwjqcLHO"
   },
   "outputs": [],
   "source": [
    "%matplotlib inline"
   ]
  },
  {
   "cell_type": "code",
   "execution_count": null,
   "metadata": {
    "id": "RtWlSylQcLHR"
   },
   "outputs": [],
   "source": [
    "import torch\n",
    "import torch.nn as nn\n",
    "import torch.nn.functional as F\n",
    "\n",
    "\n",
    "class Net(nn.Module):\n",
    "\n",
    "    def __init__(self):\n",
    "        super(Net, self).__init__()\n",
    "        # 1 input image channel, 6 output channels, 5x5 square convolution\n",
    "        # kernel\n",
    "        self.conv1 = nn.Conv2d(1, 6, 5)\n",
    "        self.conv2 = nn.Conv2d(6, 16, 5)\n",
    "        # an affine operation: y = Wx + b\n",
    "        self.fc1 = nn.Linear(16 * 5 * 5, 120)  # 5*5 from image dimension\n",
    "        self.fc2 = nn.Linear(120, 84)\n",
    "        self.fc3 = nn.Linear(84, 10)\n",
    "\n",
    "    def forward(self, x):\n",
    "        # Max pooling over a (2, 2) window\n",
    "        x = F.max_pool2d(F.relu(self.conv1(x)), (2, 2))\n",
    "        # If the size is a square, you can specify with a single number\n",
    "        x = F.max_pool2d(F.relu(self.conv2(x)), 2)\n",
    "        x = torch.flatten(x, 1) # flatten all dimensions except the batch dimension\n",
    "        x = F.relu(self.fc1(x))\n",
    "        x = F.relu(self.fc2(x))\n",
    "        x = self.fc3(x)\n",
    "        return x\n",
    "\n",
    "\n",
    "net = Net()\n",
    "print(net)"
   ]
  },
  {
   "cell_type": "markdown",
   "metadata": {
    "id": "qUM6LLlcTid4"
   },
   "source": [
    " <font color='blue'> **Question** : Décrire l'architecture du réseau </font>"
   ]
  },
  {
   "cell_type": "markdown",
   "metadata": {
    "id": "k79XwF0AbNyr"
   },
   "source": [
    " <font color='blue'> **Question** : Afficher les poids et biais de la première convolution </font>"
   ]
  },
  {
   "cell_type": "markdown",
   "metadata": {
    "id": "2kfzsfEgcLHS"
   },
   "source": [
    "Il suffit de définir la fonction ``forward`` et la fonction ``backward``\n",
    "la fonction (où les gradients sont calculés) est automatiquement définie pour vous\n",
    "en utilisant ``autograd``.\n",
    "Vous pouvez utiliser n'importe laquelle des opérations Tensor dans la fonction « forward ».\n",
    "\n",
    "Les paramètres apprenables d'un modèle sont renvoyés par ``net.parameters()``\n",
    "\n"
   ]
  },
  {
   "cell_type": "code",
   "execution_count": null,
   "metadata": {
    "id": "9Sie6Ow3cLHS"
   },
   "outputs": [],
   "source": [
    "params = list(net.parameters())\n",
    "print(len(params))\n",
    "print(params[0].size())  # conv1's .weight"
   ]
  },
  {
   "cell_type": "markdown",
   "metadata": {
    "id": "G8QrCj4NV3LU"
   },
   "source": [
    "**Attention !**\n",
    "Quand on parle du nombre de paramètres d'un réseau, on parle du nombre de nombres réels dans les matrices, biais et noyaux impliqués dans le réseau (comme dans le cours)."
   ]
  },
  {
   "cell_type": "markdown",
   "metadata": {
    "id": "mRU32WSbWWdV"
   },
   "source": [
    " <font color='blue'> **Question** : Combien de paramètres a ce réseau ? </font>"
   ]
  },
  {
   "cell_type": "markdown",
   "metadata": {
    "id": "fWC9IfM8cLHS"
   },
   "source": [
    "Essayons d'envoyer une image aléatoire en entrée.\n"
   ]
  },
  {
   "cell_type": "markdown",
   "metadata": {
    "id": "xXZPV8UzbjRm"
   },
   "source": [
    " <font color='blue'> **Question** : Testez le réseau sur une entrée aléatoire qui est une image en niveaux de gris (un canal) de taille $32 \\times 32$.</font>"
   ]
  },
  {
   "cell_type": "code",
   "execution_count": null,
   "metadata": {
    "id": "wBBFwR0jcLHS"
   },
   "outputs": [],
   "source": [
    "input = #TODO\n",
    "out = net(input)\n",
    "print(out)"
   ]
  },
  {
   "cell_type": "markdown",
   "metadata": {
    "id": "8m_g4OxtWitv"
   },
   "source": [
    "##  <font color='blue'> Exercice </font>"
   ]
  },
  {
   "cell_type": "markdown",
   "metadata": {
    "id": "MO-VJ2GtWyRT"
   },
   "source": [
    "1. Nous aimerions définir un réseau qui classe les images de taille $(3,32,32)$.\n",
    "Construire une classe Net() qui applique :\n",
    "- une convolution avec $6$ canaux en sortie et un noyau de taille $5 \\times 5$, suivi d'un ReLu\n",
    "- un max pooling de taille $2 \\times 2$\n",
    "- une convolution avec $16$ de canaux en sortie et un noyau de taille $3 \\times 3$, suivi d'un ReLu\n",
    "- un  max pooling de taille $2 \\times 2$\n",
    "- une couche linéaire avec une taille de sortie de $120$, suivie d'un ReLu\n",
    "- une couche linéaire avec une taille de sortie de $84$, suivie d'un ReLu\n",
    "- une couche linéaire avec une taille de sortie de $10$\n",
    "\n",
    "Vérifiez que cela fonctionne avec une entrée aléatoire.\n",
    "\n",
    "2. Dessinez le réseau comme cela est fait dans les dernières slides du cours."
   ]
  },
  {
   "cell_type": "code",
   "execution_count": null,
   "metadata": {
    "id": "saejSg-qcatJ"
   },
   "outputs": [],
   "source": [
    "class Net(nn.Module):\n",
    "    def __init__(self):\n",
    "        super().__init__()\n",
    "        #TODO\n",
    "\n",
    "    def forward(self, x):\n",
    "      #TODO\n",
    "\n",
    "\n",
    "net = Net()"
   ]
  },
  {
   "cell_type": "code",
   "execution_count": null,
   "metadata": {
    "id": "LHa2zo3gZGZF"
   },
   "outputs": [],
   "source": [
    "x = #TODO\n",
    "net(x)"
   ]
  }
 ],
 "metadata": {
  "colab": {
   "provenance": []
  },
  "kernelspec": {
   "display_name": "Python 3 (ipykernel)",
   "language": "python",
   "name": "python3"
  },
  "language_info": {
   "codemirror_mode": {
    "name": "ipython",
    "version": 3
   },
   "file_extension": ".py",
   "mimetype": "text/x-python",
   "name": "python",
   "nbconvert_exporter": "python",
   "pygments_lexer": "ipython3",
   "version": "3.12.7"
  }
 },
 "nbformat": 4,
 "nbformat_minor": 4
}
